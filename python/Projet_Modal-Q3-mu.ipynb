{
 "cells": [
  {
   "cell_type": "code",
   "execution_count": 1,
   "metadata": {
    "colab": {},
    "colab_type": "code",
    "id": "g1gxAXcgYBTY"
   },
   "outputs": [],
   "source": [
    "import numpy as np\n",
    "import math\n",
    "import matplotlib.pyplot as plt\n",
    "import scipy.stats as sps"
   ]
  },
  {
   "cell_type": "code",
   "execution_count": 2,
   "metadata": {
    "colab": {},
    "colab_type": "code",
    "id": "9lum8xK7gq-O"
   },
   "outputs": [],
   "source": [
    "P0 = 35\n",
    "T = 4*60*60\n",
    "lamb = 1/300\n",
    "N=100\n",
    "alpha = -0.875\n",
    "\n",
    "#Pour MC\n",
    "saut_1 = lambda x: np.ones(shape=x) #correspond à m=1\n",
    "saut_2 = lambda x: np.random.choice([1, 2, 3], size=x, replace=True, p=np.array([1/2, 1/3, 1/6])) #correspond à m=3\n",
    "\n",
    "value_2 = np.array([1, 1, 1, 2, 2, 3])\n",
    "saut_2 = lambda x : value_2[np.random.randint(low=6, size=x)]\n",
    "\n",
    "#Pour sélection-mutation\n",
    "saut_1_vect = lambda x,y : np.ones(shape=(x,y))\n",
    "saut_2_vect = lambda x,y: value_2[np.random.randint(low=6, size=(x, y))]"
   ]
  },
  {
   "cell_type": "code",
   "execution_count": 3,
   "metadata": {
    "colab": {},
    "colab_type": "code",
    "id": "fGPAnuNOJuZ1"
   },
   "outputs": [],
   "source": [
    "def part_interaction(N,saut,P0,M,alpha,mu):\n",
    "    #mu: paramètre des poids G_p\n",
    "    # Tirages de M x N v.a. suivant la loi \"saut\" et de MxN v.a. delta_n représentant le changement de signe du saut par rapport au signe du saut précédent\n",
    "    # seront utilisees pour construire les chaînes de Markov\n",
    "    xi= saut(M, N)   #N: horizon temporel (nombre de sauts)\n",
    "    delta = -1+2*np.random.binomial(1,(1+alpha)/2,size=(M,N-1))\n",
    "\n",
    "    ###############################################################################\n",
    "    ## En ponderant les trajectoires hautes : Estimation via G(X)=e^{alpha X_p}\n",
    "    ###############################################################################\n",
    "\n",
    "    # P stocke TOUTES LES VALEURS pour chacune des M chaines, dans l'optique du calcul de G_p \n",
    "    # J_hat stocke la dernière valeur du signe de saut (saut vers le bas ou vers le haut) pour chacune des M chaînes\n",
    "    P = np.zeros((M,N))\n",
    "\n",
    "    J_hat = -1+2*np.random.binomial(1,0.5,size=M) #le premier saut est vers le bas ou vers le haut avec la même probabilité\n",
    "\n",
    "    # On initialise avec la valeur du prix après le premier saut\n",
    "    P[:,0] = P0+J_hat*xi[:,0]\n",
    "        \n",
    "    facteurDroite = 1 #produit des moyennes des pondérations à chaque itération\n",
    "\n",
    "    for k in range(N-1):\n",
    "                \n",
    "        weights = np.exp(-mu*P[:,k])\n",
    "        \n",
    "        facteurDroite *= np.mean(weights)\n",
    "        \n",
    "        \n",
    "        weights = weights/np.sum(weights)\n",
    "\n",
    "        I = np.random.choice(np.arange(M),size=M,replace=True,p=weights)\n",
    "        \n",
    "        #sélection\n",
    "        P = P[I,:]\n",
    "        J_hat=J_hat[I]\n",
    "\n",
    "        #mutation\n",
    "\n",
    "        J_hat=J_hat*delta[:,k]\n",
    "        P[:,k+1] = P[:,k] +xi[:,k+1]*J_hat\n",
    "\n",
    "    #px_final_moyen=np.mean(P) #pour ajuster mu\n",
    "    tabFacteursGauche = np.exp(mu*np.sum(P[:,:-1],axis=1)) #tableau des 1/(\\prod_{k=0}^{N-2} G_k)\n",
    "    proba_negatif = np.sum(tabFacteursGauche[np.min(P,axis=1)<0])/M * facteurDroite\n",
    "    return proba_negatif"
   ]
  },
  {
   "cell_type": "code",
   "execution_count": 4,
   "metadata": {
    "colab": {},
    "colab_type": "code",
    "id": "jmzAzzB5roI-"
   },
   "outputs": [],
   "source": [
    "#Monte-Carlo naïf - Méthode 1\n",
    "\n",
    "def Q3_proba_negatif(N,saut,P0,M,alpha): \n",
    "    liste_px_inf_0 = np.zeros(M)\n",
    "    for i in range(M):\n",
    "        increments = saut(N)\n",
    "        signes = -1+2*np.random.binomial(1,(1+alpha)/2,size=N)\n",
    "\n",
    "        signes[0] = -1+np.random.binomial(1,0.5)*2\n",
    "\n",
    "        signes = np.cumprod(signes)\n",
    "        prix = P0 +np.cumsum(increments*signes)\n",
    "\n",
    "        if np.min(prix)<0:\n",
    "            liste_px_inf_0[i] = 1\n",
    "        else:\n",
    "            liste_px_inf_0[i] = 0\n",
    "    return np.mean(liste_px_inf_0)\n"
   ]
  },
  {
   "cell_type": "code",
   "execution_count": 6,
   "metadata": {
    "colab": {
     "base_uri": "https://localhost:8080/",
     "height": 282
    },
    "colab_type": "code",
    "id": "C_rFOkKN78QD",
    "outputId": "beadd266-19c9-40b5-d1fe-5fec6f00d9de"
   },
   "outputs": [
    {
     "name": "stdout",
     "output_type": "stream",
     "text": [
      "CPU times: user 1h 32min 17s, sys: 1min 53s, total: 1h 34min 11s\n",
      "Wall time: 1h 34min 41s\n"
     ]
    },
    {
     "data": {
      "text/plain": [
       "<matplotlib.legend.Legend at 0x7f1b80b0e7d0>"
      ]
     },
     "execution_count": 6,
     "metadata": {},
     "output_type": "execute_result"
    },
    {
     "data": {
      "image/png": "[encoded data removed]",
      "text/plain": [
       "<Figure size 432x288 with 1 Axes>"
      ]
     },
     "metadata": {
      "needs_background": "light"
     },
     "output_type": "display_data"
    }
   ],
   "source": [
    "%%time\n",
    "#Ajuster mu \n",
    "\n",
    "M= int(1e4)\n",
    "P0= 35\n",
    "N=100\n",
    "n=1000\n",
    "liste_mu = np.linspace(0.001,0.017,24)\n",
    "estimateurs = np.zeros((len(liste_mu),n))\n",
    "\n",
    "for i in range(len(liste_mu)):\n",
    "    for j in range(n):\n",
    "        estimateurs[i,j]=part_interaction(N,saut_2_vect,P0,M,alpha,liste_mu[i])\n",
    "\n",
    "plt.plot( liste_mu,np.std(estimateurs,axis=1)/np.mean(estimateurs,axis=1),'r-o',label=\"Ecart-type/valeur moyenne\")\n",
    "\n",
    "plt.grid()\n",
    "plt.legend(loc=\"best\")"
   ]
  },
  {
   "cell_type": "code",
   "execution_count": 5,
   "metadata": {},
   "outputs": [
    {
     "name": "stderr",
     "output_type": "stream",
     "text": [
      "/home/pgi/anaconda3/lib/python3.7/site-packages/ipykernel_launcher.py:27: RuntimeWarning: overflow encountered in double_scalars\n",
      "/home/pgi/anaconda3/lib/python3.7/site-packages/ipykernel_launcher.py:45: RuntimeWarning: invalid value encountered in double_scalars\n"
     ]
    },
    {
     "name": "stdout",
     "output_type": "stream",
     "text": [
      "CPU times: user 17min 34s, sys: 34.4 s, total: 18min 9s\n",
      "Wall time: 18min 12s\n"
     ]
    },
    {
     "name": "stderr",
     "output_type": "stream",
     "text": [
      "/home/pgi/anaconda3/lib/python3.7/site-packages/ipykernel_launcher.py:14: RuntimeWarning: invalid value encountered in true_divide\n",
      "  \n"
     ]
    },
    {
     "data": {
      "text/plain": [
       "<matplotlib.legend.Legend at 0x7f685ca48f10>"
      ]
     },
     "execution_count": 5,
     "metadata": {},
     "output_type": "execute_result"
    },
    {
     "data": {
      "image/png": "[encoded data removed]",
      "text/plain": [
       "<Figure size 432x288 with 1 Axes>"
      ]
     },
     "metadata": {
      "needs_background": "light"
     },
     "output_type": "display_data"
    }
   ],
   "source": [
    "%%time\n",
    "#Ajuster mu \n",
    "\n",
    "M= int(1e4)\n",
    "P0= 35\n",
    "N=100\n",
    "n=50\n",
    "liste_mu = np.linspace(0.001,0.9,100)\n",
    "estimateurs = np.zeros((len(liste_mu),n))\n",
    "\n",
    "for i in range(len(liste_mu)):\n",
    "    for j in range(n):\n",
    "        estimateurs[i,j]=part_interaction(N,saut_1_vect,P0,M,alpha,liste_mu[i])\n",
    "\n",
    "plt.plot( liste_mu,np.std(estimateurs,axis=1)/np.mean(estimateurs,axis=1),'r-o',label=\"Ecart-type/valeur moyenne\")\n",
    "\n",
    "plt.grid()\n",
    "plt.legend(loc=\"best\")"
   ]
  },
  {
   "cell_type": "code",
   "execution_count": 8,
   "metadata": {},
   "outputs": [
    {
     "data": {
      "application/vnd.jupyter.widget-view+json": {
       "model_id": "a49d8674d0fd4554b50688bc7f552422",
       "version_major": 2,
       "version_minor": 0
      },
      "text/plain": [
       "HBox(children=(FloatProgress(value=0.0, max=24.0), HTML(value='')))"
      ]
     },
     "metadata": {},
     "output_type": "display_data"
    },
    {
     "name": "stdout",
     "output_type": "stream",
     "text": [
      "\n",
      "CPU times: user 1h 28min 44s, sys: 1min 28s, total: 1h 30min 12s\n",
      "Wall time: 1h 30min 42s\n"
     ]
    },
    {
     "name": "stderr",
     "output_type": "stream",
     "text": [
      "/home/pgi/anaconda3/lib/python3.7/site-packages/ipykernel_launcher.py:15: RuntimeWarning: invalid value encountered in true_divide\n",
      "  from ipykernel import kernelapp as app\n"
     ]
    },
    {
     "data": {
      "text/plain": [
       "<matplotlib.legend.Legend at 0x7f3c4e49fd50>"
      ]
     },
     "execution_count": 8,
     "metadata": {},
     "output_type": "execute_result"
    },
    {
     "data": {
      "image/png": "[encoded data removed]",
      "text/plain": [
       "<Figure size 432x288 with 1 Axes>"
      ]
     },
     "metadata": {
      "needs_background": "light"
     },
     "output_type": "display_data"
    }
   ],
   "source": [
    "%%time\n",
    "from tqdm.notebook import tqdm\n",
    "#Ajuster mu \n",
    "\n",
    "M= int(1e4)\n",
    "P0= 35\n",
    "N=100\n",
    "n=1000\n",
    "liste_mu = np.linspace(0.15,0.5,100)\n",
    "estimateurs = np.zeros((len(liste_mu),n))\n",
    "\n",
    "for i in tqdm(range(len(liste_mu))):\n",
    "    for j in range(n):\n",
    "        estimateurs[i,j]=part_interaction(N,saut_1_vect,P0,M,alpha,liste_mu[i])\n",
    "\n",
    "plt.plot( liste_mu,np.std(estimateurs,axis=1)/np.mean(estimateurs,axis=1),'r-o',label=\"Ecart-type/valeur moyenne\")\n",
    "\n",
    "plt.grid()\n",
    "plt.legend(loc=\"best\")"
   ]
  },
  {
   "cell_type": "code",
   "execution_count": 10,
   "metadata": {
    "colab": {
     "base_uri": "https://localhost:8080/",
     "height": 51
    },
    "colab_type": "code",
    "id": "aS7A202Xyw1W",
    "outputId": "0ba84e59-57ed-4db8-e984-d7dedbf3e32f"
   },
   "outputs": [
    {
     "name": "stdout",
     "output_type": "stream",
     "text": [
      "Probabilité que le prix prenne des valeurs négatives au cours des N premiers sauts : 4.4112466515841576e-05+/- 5.278958482090444e-07\n",
      "CPU times: user 3h 21s, sys: 12min 21s, total: 3h 12min 42s\n",
      "Wall time: 3h 13min 15s\n"
     ]
    }
   ],
   "source": [
    "%%time\n",
    "M= int(1e7)\n",
    "P0= 35\n",
    "N=100\n",
    "mu = 0.008 #ajusté empiriquement\n",
    "\n",
    "#proba_negatif = Q3_proba_negatif(N,saut_2,P0,M,alpha) #pour utiliser la méthode naïve\n",
    "#proba_negatif = part_interaction(N,saut_2_vect,P0,M,alpha,mu) #pour utiliser la méthode mutation/selection\n",
    "\n",
    "L= 10\n",
    "probas_negatif = np.zeros(L)\n",
    "for l in range(L):\n",
    "    probas_negatif[l] = part_interaction(N,saut_2_vect,P0,M,alpha,mu)\n",
    "R_IC= np.sqrt(np.var(probas_negatif)/L)*sps.t.ppf(0.975,df=L-1) #quantile de la loi de Student \n",
    "print(\"Probabilité que le prix prenne des valeurs négatives au cours des N premiers sauts : {}+/- {}\".format(np.mean(probas_negatif),R_IC))\n",
    "\n",
    "#Pour P0=10 et m=3 et M=10^5 et N=100, donne 0.2262 avec MC naif\n",
    "#Donne 0.2331 avec méthode particules en interaction (mu=0.03/P0)\n",
    "#pour P0=35, particules en interaction donne 5.027933935719282e-05"
   ]
  },
  {
   "cell_type": "code",
   "execution_count": 11,
   "metadata": {},
   "outputs": [
    {
     "name": "stdout",
     "output_type": "stream",
     "text": [
      "Probabilité que le prix prenne des valeurs négatives au cours des N premiers sauts : 1.6076674902949438e-35+/- 2.677818732690566e-35\n",
      "CPU times: user 3h 2min 1s, sys: 20min 6s, total: 3h 22min 7s\n",
      "Wall time: 3h 53min 16s\n"
     ]
    }
   ],
   "source": [
    "%%time\n",
    "mu = 0.15 #ajusté empiriquement\n",
    "\n",
    "L= 10\n",
    "probas_negatif = np.zeros(L)\n",
    "for l in range(L):\n",
    "    probas_negatif[l] = part_interaction(N,saut_1_vect,P0,M,alpha,mu)\n",
    "R_IC= np.sqrt(np.var(probas_negatif)/L)*sps.t.ppf(0.975,df=L-1) #quantile de la loi de Student \n",
    "print(\"Probabilité que le prix prenne des valeurs négatives au cours des N premiers sauts : {}+/- {}\".format(np.mean(probas_negatif),R_IC))"
   ]
  },
  {
   "cell_type": "markdown",
   "metadata": {
    "colab_type": "text",
    "id": "59n-1VM-jxH7"
   },
   "source": [
    "### Estimation de quantiles du prix final après N sauts"
   ]
  },
  {
   "cell_type": "code",
   "execution_count": 0,
   "metadata": {
    "colab": {},
    "colab_type": "code",
    "id": "oGOBHd3zg3bq"
   },
   "outputs": [],
   "source": [
    "#Quantile simple \n",
    "\n",
    "\n",
    "def Quantile_naif_2(seuil,N,saut,P0,M,alpha):\n",
    "\n",
    "    liste_P_t = np.zeros(M)\n",
    "    for i in range(M):\n",
    "        signes = -1+2*np.random.binomial(1,(1+alpha)/2,size=N)\n",
    "        signes[0] = -1+np.random.binomial(1,0.5)*2\n",
    "        signes = np.cumprod(signes)\n",
    "        increments = saut(N)\n",
    "        \n",
    "        liste_P_t[i] = np.sum(increments*signes)+P0 \n",
    "    liste_P_t = np.sort(liste_P_t)\n",
    "    return liste_P_t[int(np.ceil(M*seuil))-1],liste_P_t[int(np.ceil(M*(1-seuil)))-1]"
   ]
  },
  {
   "cell_type": "code",
   "execution_count": 0,
   "metadata": {
    "colab": {
     "base_uri": "https://localhost:8080/",
     "height": 34
    },
    "colab_type": "code",
    "id": "BocEYFqCsnWW",
    "outputId": "d52fd099-8fd3-422a-a274-d064e2fa4294"
   },
   "outputs": [
    {
     "name": "stdout",
     "output_type": "stream",
     "text": [
      "Quantiles de niveau -0.875 : (24.2 +/ 0.9797958971132713, 45.4 +/ 1.2)\n"
     ]
    }
   ],
   "source": [
    "seuil = 1e-4\n",
    "M=int(1e4)\n",
    "nbIter = 10\n",
    "quantiles = np.zeros((nbIter,2))\n",
    "\n",
    "for i in range(nbIter):\n",
    "    quantiles[i][0],quantiles[i][1] = Quantile_naif_2(seuil,N,saut_1,P0,M,alpha)\n",
    "\n",
    "estimateur_quantiles = np.mean(quantiles,axis=0)\n",
    "erreur = np.std(quantiles,axis=0)\n",
    "print(\"Quantiles de niveau {} : ({} +/ {:08.7f}, {} +/ {})\".format(alpha,estimateur_quantiles[0],erreur[0],estimateur_quantiles[1],erreur[1]))"
   ]
  },
  {
   "cell_type": "code",
   "execution_count": 0,
   "metadata": {
    "colab": {
     "base_uri": "https://localhost:8080/",
     "height": 34
    },
    "colab_type": "code",
    "id": "wXRHajmTcG6A",
    "outputId": "3a673ff5-3af3-4959-b93f-35d98cf1ef23"
   },
   "outputs": [
    {
     "name": "stdout",
     "output_type": "stream",
     "text": [
      "Quantiles de niveau -0.875 : (24.2 +/ 0.980, 45.4 +/ 1.2)\n"
     ]
    }
   ],
   "source": [
    "print(\"Quantiles de niveau {} : ({} +/ {:04.3f}, {} +/ {})\".format(alpha,estimateur_quantiles[0],erreur[0],estimateur_quantiles[1],erreur[1]))"
   ]
  },
  {
   "cell_type": "markdown",
   "metadata": {
    "colab_type": "text",
    "id": "GiQmq9gl0gSv"
   },
   "source": [
    "### Limite macroscopique"
   ]
  },
  {
   "cell_type": "code",
   "execution_count": 0,
   "metadata": {
    "colab": {},
    "colab_type": "code",
    "id": "1nNzPWRg0_Xp"
   },
   "outputs": [],
   "source": [
    "#Monte-Carlo \n",
    "\n",
    "def Q3_proba_negatif(lamb,T,saut,P0,M,alpha): \n",
    "    liste_px_inf_0 = np.zeros(M)\n",
    "    for i in range(M):\n",
    "        N = np.random.poisson(lamb*T)\n",
    "        increments = saut(N)\n",
    "        signes = -1+2*np.random.binomial(1,(1+alpha)/2,size=N)\n",
    "        signes[0] = -1+np.random.binomial(1,0.5)*2\n",
    "        signes = np.cumprod(signes)\n",
    "        prix = P0 +np.cumsum(increments*signes)\n",
    "        if np.min(prix)<0:\n",
    "            liste_px_inf_0[i] = 1\n",
    "        liste_px_inf_0[i] = 0\n",
    "    return np.mean(liste_px_inf_0)"
   ]
  },
  {
   "cell_type": "code",
   "execution_count": 0,
   "metadata": {
    "colab": {
     "base_uri": "https://localhost:8080/",
     "height": 35
    },
    "colab_type": "code",
    "id": "kxQmSzyFtE0c",
    "outputId": "d8638e9c-9edd-4274-a1e7-037b4ed2e37c"
   },
   "outputs": [
    {
     "name": "stdout",
     "output_type": "stream",
     "text": [
      "0.0\n"
     ]
    }
   ],
   "source": [
    "T = 8*250*24*60*60\n",
    "lamb = 1/300\n",
    "M = int(1e3)\n",
    "P0=1000\n",
    "alpha=-0.85\n",
    "\n",
    "proba_negatif = Q3_proba_negatif(lamb,T,saut_2,P0,M,alpha)\n",
    "print(proba_negatif)"
   ]
  },
  {
   "cell_type": "code",
   "execution_count": 0,
   "metadata": {
    "colab": {},
    "colab_type": "code",
    "id": "o5B9Al1BAS0N"
   },
   "outputs": [],
   "source": []
  }
 ],
 "metadata": {
  "colab": {
   "collapsed_sections": [
    "WX6z2Cw9oygh",
    "1EPXucHSxnK0",
    "7MNbYGKyxzsc",
    "QuvaJfnMx4oC",
    "1bthr6Ecx-FQ",
    "cCgK9NrFzQfO",
    "W44z1y2wFgPO",
    "54ss_U8OztnN",
    "mOgm7vfNzzaB",
    "E7rePe3iLB60",
    "ntNKzkWPzUT1",
    "sJt1_9eHz6-J",
    "9h3BmWHs0C4R",
    "O_acr5vYdXRb",
    "fKihS64UzPW5",
    "ZDhCCbs30IxJ",
    "k1Q0VUze0Muj",
    "GoJBPfJ4T0FL",
    "GiQmq9gl0gSv"
   ],
   "machine_shape": "hm",
   "name": "Projet_Modal.ipynb",
   "provenance": []
  },
  "kernelspec": {
   "display_name": "Python 3",
   "language": "python",
   "name": "python3"
  },
  "language_info": {
   "codemirror_mode": {
    "name": "ipython",
    "version": 3
   },
   "file_extension": ".py",
   "mimetype": "text/x-python",
   "name": "python",
   "nbconvert_exporter": "python",
   "pygments_lexer": "ipython3",
   "version": "3.7.6"
  }
 },
 "nbformat": 4,
 "nbformat_minor": 1
}
