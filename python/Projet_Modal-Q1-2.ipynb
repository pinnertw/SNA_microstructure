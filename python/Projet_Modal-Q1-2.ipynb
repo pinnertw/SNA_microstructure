{
 "cells": [
  {
   "cell_type": "code",
   "execution_count": 4,
   "metadata": {
    "colab": {},
    "colab_type": "code",
    "id": "g1gxAXcgYBTY"
   },
   "outputs": [],
   "source": [
    "import numpy as np\n",
    "import math\n",
    "import matplotlib.pyplot\n",
    "## Calcul de IC pour les quantiles\n",
    "from scipy.stats import binom\n",
    "from math import ceil\n",
    "def IC_quantile(quantiles, niveau):\n",
    "    n = len(quantiles)\n",
    "    quantiles = np.sort(quantiles)\n",
    "    index_ = ceil(n * niveau) - 1\n",
    "    niveau_inf = ceil(n * (niveau - 1.96 * np.sqrt(niveau * (1-niveau) / n))) - 1\n",
    "    niveau_sup = ceil(n * (niveau + 1.96 * np.sqrt(niveau * (1-niveau) / n))) - 1\n",
    "    q = quantiles[index_]\n",
    "    print(\"Quantile au niveau {} = {}, avec intervalle de confiance = {}, {}\".format(niveau, \n",
    "                                                                                     q, \n",
    "                                                                                     quantiles[niveau_inf], \n",
    "                                                                                     quantiles[niveau_sup]))"
   ]
  },
  {
   "cell_type": "markdown",
   "metadata": {
    "colab_type": "text",
    "id": "CN5LC1dmz9LE"
   },
   "source": [
    "## Q1"
   ]
  },
  {
   "cell_type": "markdown",
   "metadata": {
    "colab_type": "text",
    "id": "a6x5boyyXei6"
   },
   "source": [
    "Dans cette première modélisation simplifiée, on considère donc que le prix $P_t$ est un processus de Poisson de paramètres $\\lambda, \\nu$ où $\\nu$ est la loi des incréments $J_n$. \n",
    "\n",
    "Pour un temps d'attente moyen entre deux sauts de $300s$, on prend $\\lambda = \\dfrac{1}{300}$\n"
   ]
  },
  {
   "cell_type": "code",
   "execution_count": 5,
   "metadata": {
    "colab": {},
    "colab_type": "code",
    "id": "t4VEAteSz9sG"
   },
   "outputs": [],
   "source": [
    "# On identifie le processus par le processus de Poisson composé, qui finit à un temps fixé T\n",
    "# On crée des fonctions pour modéliser le processus.\n",
    "\n",
    "#### On définit nu, la loi des incréments\n",
    "# Ancien : plus lent\n",
    "saut_1_ancien = lambda x: np.random.choice([-1, 1], size=x, replace=True, p=[0.5, 0.5]) #correspond à m=1\n",
    "saut_2_ancien = lambda x: np.random.choice([-3, -2, -1, 1, 2, 3], size=x, replace=True, p=0.5*np.array([1/6, 1/3, 1/2, 1/2, 1/3, 1/6])) #correspond à m=3\n",
    "\n",
    "# Nouveau : beaucoup plus vite\n",
    "value_1 = np.array([-1, 1])\n",
    "value_2 = np.array([-3, -2, -2, -1, -1, -1, 1, 1, 1, 2, 2, 3])\n",
    "saut_1 = lambda x : value_1[np.random.randint(low=2, size=x)]\n",
    "saut_2 = lambda x : value_2[np.random.randint(low=12, size=x)]\n",
    "\n",
    "# Les paramètres\n",
    "P0 = 35\n",
    "T = 4*60*60\n",
    "lamb = 1/300"
   ]
  },
  {
   "cell_type": "markdown",
   "metadata": {
    "colab_type": "text",
    "id": "cCgK9NrFzQfO"
   },
   "source": [
    "###  Q1 - 2 Quantile\n"
   ]
  },
  {
   "cell_type": "markdown",
   "metadata": {
    "colab_type": "text",
    "id": "jYMiLJF3RkpV"
   },
   "source": [
    "Pour les intervalles de confiance des quantiles, voir cours 2 p.3 (y a un TCL pour le quantile)\n",
    "\n",
    "__Aussi, parle des approximations gaussiennes des poissons composés p6__\n",
    "\n",
    "D'après le cours:\n",
    "\n",
    "Si la loi des sauts est centrée et de variance $\\sigma^2$\n",
    "Si on note $N_T$ le nombre de sauts dans $[0,T]$,\n",
    "\n",
    "$$N \\sim \\mathcal{P}(\\lambda T)$$\n",
    "Alors le prix à $T$, $X_T$,  converge en loi vers $\\mathcal{N}(P_0,\\lambda T \\sigma^2)$ quand $\\lambda T \\rightarrow + \\infty$\n",
    "\n",
    "Ici on a $\\lambda T = 48$\n",
    "\n",
    "Ca serait intéressant de comparer les quantiles obtenus en Q1.2 avec les quantiles de la loi normale $\\mathcal{N}(P_0,\\lambda T \\sigma^2)$, où $\\sigma^2=1$ si $m=1$ et $\\sigma^2 = ...$ si $m=3$ (normalement, devraient être proches)"
   ]
  },
  {
   "cell_type": "code",
   "execution_count": 6,
   "metadata": {
    "colab": {},
    "colab_type": "code",
    "id": "u2XIYknCZpWw"
   },
   "outputs": [],
   "source": [
    "#Monte-Carlo accéléré - Méthode 2\n",
    "\n",
    "# Poisson composé naïf\n",
    "def Poisson_compose(P0, T, lamb, saut, size):\n",
    "  # saut : une fonction qui prend la taille de sortie comme entrée pour les sauts.\n",
    "  N = np.random.poisson(lam=lamb * T, size=size + 1)\n",
    "  N[0] = 0\n",
    "  N = np.cumsum(N)                  # La valeur N[i] - N[i - 1] est égale à N pour le i-ième échantillon\n",
    "                                    # Donc la somme des sauts entre indice N[i] + 1 et N[i + 1] suit la loi voulue\n",
    "  J = saut(N[-1] + 1)               # Sauts\n",
    "  J = np.cumsum(J)\n",
    "  M = J[N[1:]] - J[N[:-1]]          # On veut la somme entre l'indice N[i] + 1 et N[i + 1]\n",
    "  return P0 + M # échantillon de taille (size)\n",
    "\n",
    "def quantile(echantillion, size, quant):\n",
    "  index_bot = int(math.ceil(size * quant))\n",
    "  index_top = int(math.ceil(size * (1 - quant)))\n",
    "  echantillion.partition((index_bot, index_top))\n",
    "  return echantillion[index_bot], echantillion[index_top]\n",
    "\n",
    "def Question1_2_naive(size, quant, saut, P0, T, lamb):\n",
    "  return quantile(Poisson_compose(P0, T, lamb, saut, size), size, quant)"
   ]
  },
  {
   "cell_type": "markdown",
   "metadata": {},
   "source": [
    "### m = 1"
   ]
  },
  {
   "cell_type": "code",
   "execution_count": 9,
   "metadata": {
    "colab": {
     "base_uri": "https://localhost:8080/",
     "height": 68
    },
    "colab_type": "code",
    "id": "tc9j6LwpcvS_",
    "outputId": "4350e209-2e4c-428a-9c15-438885def2da"
   },
   "outputs": [
    {
     "name": "stdout",
     "output_type": "stream",
     "text": [
      "Quantile au niveau 1e-06 = 2, avec intervalle de confiance = 1, 2\n",
      "Quantile au niveau 1e-05 = 5, avec intervalle de confiance = 5, 5\n",
      "Quantile au niveau 0.0001 = 9, avec intervalle de confiance = 9, 9\n",
      "Quantile au niveau 0.9999 = 61, avec intervalle de confiance = 61, 61\n",
      "Quantile au niveau 0.99999 = 65, avec intervalle de confiance = 65, 65\n",
      "Quantile au niveau 0.999999 = 68, avec intervalle de confiance = 67, 70\n",
      "CPU times: user 4.81 s, sys: 1.1 s, total: 5.91 s\n",
      "Wall time: 5.99 s\n"
     ]
    }
   ],
   "source": [
    "%%time\n",
    "size = int(1e7)\n",
    "quantiles = Poisson_compose(P0, T, lamb, saut_1, size)\n",
    "for quantile in [1e-6, 1e-5, 1e-4, 1 - 1e-4, 1 - 1e-5, 1 - 1e-6]:\n",
    "    IC_quantile(quantiles, quantile)\n",
    "\n",
    "#Donne 9 et 61 pour P0 = 35 et m=1 et niveau = 10^-4 \n",
    "#Donne 5 et 65 pour P0 = 35 et m=1 et niveau = 10^-5 \n",
    "#Donne 3 et 68 pour P0 = 35 et m=1 et niveau = 10^-6\n",
    "#Donne -13 et 83 pour P0 = 35 et m=2 et niveau = 10^-4 \n",
    "#Donne -21 et 92 pour P0 = 35 et m=2 et niveau = 10^-5\n",
    "#Donne -25 et 94 pour P0 = 35 et m=2 et niveau = 10^-6"
   ]
  },
  {
   "cell_type": "markdown",
   "metadata": {},
   "source": [
    "### m = 3"
   ]
  },
  {
   "cell_type": "code",
   "execution_count": 11,
   "metadata": {},
   "outputs": [
    {
     "name": "stdout",
     "output_type": "stream",
     "text": [
      "Quantile au niveau 1e-06 = -29, avec intervalle de confiance = -31, -26\n",
      "Quantile au niveau 1e-05 = -20, avec intervalle de confiance = -21, -20\n",
      "Quantile au niveau 0.0001 = -13, avec intervalle de confiance = -13, -13\n",
      "Quantile au niveau 0.9999 = 83, avec intervalle de confiance = 83, 83\n",
      "Quantile au niveau 0.99999 = 90, avec intervalle de confiance = 90, 91\n",
      "Quantile au niveau 0.999999 = 97, avec intervalle de confiance = 95, 99\n",
      "CPU times: user 7.09 s, sys: 792 ms, total: 7.88 s\n",
      "Wall time: 7.89 s\n"
     ]
    }
   ],
   "source": [
    "%%time\n",
    "size = int(1e7)\n",
    "quantiles = Poisson_compose(P0, T, lamb, saut_2, size)\n",
    "for quantile in [1e-6, 1e-5, 1e-4, 1 - 1e-4, 1 - 1e-5, 1 - 1e-6]:\n",
    "    IC_quantile(quantiles, quantile)"
   ]
  },
  {
   "cell_type": "markdown",
   "metadata": {},
   "source": [
    "## MCMC"
   ]
  },
  {
   "cell_type": "code",
   "execution_count": 12,
   "metadata": {
    "colab": {},
    "colab_type": "code",
    "id": "b7uFf__VdhIw"
   },
   "outputs": [],
   "source": [
    "#MCMC (chaînes de Markov) - Méthode 3\n",
    "\n",
    "def Quantile_ergodique(n,lamb,T,p,P0,saut): #renvoie le quantile de niveau \"seuil\" du processus de poisson composé\n",
    "\n",
    "    liste_prix_final = np.zeros(n)\n",
    "\n",
    "    liste_sauts = liste_sts(lamb,T,saut)\n",
    "\n",
    "    for l in range(n):\n",
    "        coloriage = liste_sauts[:,np.random.binomial(1,p,size = len(liste_sauts[0])) ==1]\n",
    "        liste_sauts_tilde = liste_sts((1-p)*lamb,T,saut)\n",
    "        nc = coloriage.shape[1]\n",
    "        nt = liste_sauts_tilde.shape[1]\n",
    "        liste_sauts = np.zeros((2, nc + nt))\n",
    "        new_liste_sts(coloriage, liste_sauts_tilde, liste_sauts, nc, nt)\n",
    "\n",
    "        #new_liste_sauts = np.concatenate((coloriage,liste_sauts_tilde),axis=1)\n",
    "        #liste_sauts = tri_temps(new_liste_sauts)\n",
    "\n",
    "        liste_prix_final[l] = np.cumsum(liste_sauts[1,:])[-1] +P0\n",
    "\n",
    "    liste_prix_final.sort()\n",
    "    return liste_prix_final\n",
    "\n",
    "def liste_sts(lbda, T, saut):\n",
    "    N = np.random.poisson(lbda*T)\n",
    "    liste_sauts = np.zeros((2, N))\n",
    "    liste_sauts[0, :] = np.sort(np.random.uniform(low=0, high=T, size=N))\n",
    "    liste_sauts[1, :] = saut(N)\n",
    "    #renvoie un array de N colonnes et 2 lignes: 1ere ligne pour les temps des sauts (T_n), deuxième ligne pour leurs amplitudes (J_n)\n",
    "    return liste_sauts\n",
    "    #liste_temps_sauts = np.random.uniform(low = 0, high = T, size = N)\n",
    "    #liste_temps_sauts_triee = [np.sort(liste_temps_sauts)]\n",
    "    #liste_increments = [saut(N)]\n",
    "    #return np.concatenate((liste_temps_sauts_triee,liste_increments),axis=0)\n",
    "\n",
    "from numba import jit\n",
    "@jit(nopython=True)\n",
    "def new_liste_sts(coloriage, liste_sauts_tilde, new_liste_sauts, nc, nt):\n",
    "    i = 0\n",
    "    j = 0\n",
    "    k = 0\n",
    "    # Merge two listes triées\n",
    "    while i < nc:\n",
    "        T1 = coloriage[0, i]\n",
    "        while j < nt and liste_sauts_tilde[0, j] < T1:\n",
    "            new_liste_sauts[:, k] = liste_sauts_tilde[:, j]\n",
    "            j += 1\n",
    "            k += 1\n",
    "        new_liste_sauts[:, k] = coloriage[:, i]\n",
    "        i += 1\n",
    "        k += 1\n",
    "    while j < nt:\n",
    "        new_liste_sauts[:, k] = liste_sauts_tilde[:, j]\n",
    "        j += 1\n",
    "        k += 1\n",
    "    return new_liste_sauts"
   ]
  },
  {
   "cell_type": "code",
   "execution_count": 13,
   "metadata": {
    "colab": {
     "base_uri": "https://localhost:8080/",
     "height": 51
    },
    "colab_type": "code",
    "id": "nlfAOhFsZKKd",
    "outputId": "b8064ceb-b5ae-4e4f-96db-34fb2ab13c53"
   },
   "outputs": [
    {
     "name": "stdout",
     "output_type": "stream",
     "text": [
      "Quantile au niveau 1e-06 = -28.0, avec intervalle de confiance = -29.0, -26.0\n",
      "Quantile au niveau 1e-05 = -20.0, avec intervalle de confiance = -21.0, -20.0\n",
      "Quantile au niveau 0.0001 = -13.0, avec intervalle de confiance = -13.0, -13.0\n",
      "Quantile au niveau 0.9999 = 83.0, avec intervalle de confiance = 83.0, 83.0\n",
      "Quantile au niveau 0.99999 = 90.0, avec intervalle de confiance = 89.0, 91.0\n",
      "Quantile au niveau 0.999999 = 97.0, avec intervalle de confiance = 95.0, 100.0\n",
      "CPU times: user 6min 41s, sys: 572 ms, total: 6min 41s\n",
      "Wall time: 6min 43s\n"
     ]
    }
   ],
   "source": [
    "%%time\n",
    "P0 = 35\n",
    "T = 4*60*60 #conversion en secondes\n",
    "lamb =  1/300 \n",
    "n = int(1e7) \n",
    "\n",
    "#niveau = 1e-4\n",
    "p=0.8\n",
    "\n",
    "# m = 3\n",
    "quantiles = Quantile_ergodique(n, lamb,T, p, P0,saut_2) #mettre Quantile_ergodique(niveau,n,lamb,T,p,P0,saut) ou Quantile_naif(niveau,n,lamb,T,P0,saut)\n",
    "for quantile in [1e-6, 1e-5, 1e-4, 1 - 1e-4, 1 - 1e-5, 1 - 1e-6]:\n",
    "    IC_quantile(quantiles, quantile)\n",
    "#quantileDroit = Quantile_naif(1-niveau,n,lamb,T,P0,saut_2)\n",
    "#print(\"Quantile de niveau {} : {}\".format(niveau,quantileGauche))\n",
    "#print(\"Quantile de niveau {} : {}\".format(1-niveau,quantileDroit))\n",
    "\n",
    "#Résultats pour Quantile_ergodique:\n",
    "#Donne 9 et 61 pour P0 = 35 et k=0 et niveau = 10^-4 (c'est à peu près sym/P0 ce qui est rassurant)\n",
    "#Donne 5 et 66 pour P0 = 35 et k=0 et niveau = 10^-5\n",
    "#Donne 5 et 63 pour P0 = 35 et k=0 et niveau = 10^-6 (problème... faut augmenter n?) n : 10^5 -> 10^6 : on trouve 2 et 68 ; OK :D\n",
    "\n",
    "#-15 et 83 pour P0=35 et k=1 et niveau = 10^-4 (sauts plus grands dc on va plus loin, logique; sym/0, logique)\n",
    "#-16 et 90 pour P0=35 et k=1 et niveau = 10^-5\n",
    "#Donne -25 et 97 pour P0 = 35 et k=1 et niveau = 10^-6 (en augmentant n de 10^5 à 10^6)\n",
    "\n",
    "#Résultats Quantile_naïf (plus lent) (n=10^5):\n",
    "#9 et 62\n",
    "#5 et 66\n",
    "#3 et 67\n",
    "#-13 et 84\n",
    "#-22 et 87 si on garde n=10^5, -20 et 89 si on passe à n=10^6\n",
    "# -22 et 97(on passe à n=10^6)"
   ]
  },
  {
   "cell_type": "code",
   "execution_count": 14,
   "metadata": {},
   "outputs": [
    {
     "name": "stdout",
     "output_type": "stream",
     "text": [
      "Quantile au niveau 1e-06 = 1.0, avec intervalle de confiance = -1.0, 2.0\n",
      "Quantile au niveau 1e-05 = 5.0, avec intervalle de confiance = 5.0, 5.0\n",
      "Quantile au niveau 0.0001 = 9.0, avec intervalle de confiance = 9.0, 9.0\n",
      "Quantile au niveau 0.9999 = 61.0, avec intervalle de confiance = 61.0, 61.0\n",
      "Quantile au niveau 0.99999 = 65.0, avec intervalle de confiance = 65.0, 65.0\n",
      "Quantile au niveau 0.999999 = 68.0, avec intervalle de confiance = 67.0, 69.0\n"
     ]
    }
   ],
   "source": [
    "quantiles = Quantile_ergodique(n, lamb,T, p, P0,saut_1) #mettre Quantile_ergodique(niveau,n,lamb,T,p,P0,saut) ou Quantile_naif(niveau,n,lamb,T,P0,saut)\n",
    "for quantile in [1e-6, 1e-5, 1e-4, 1 - 1e-4, 1 - 1e-5, 1 - 1e-6]:\n",
    "    IC_quantile(quantiles, quantile)"
   ]
  },
  {
   "cell_type": "markdown",
   "metadata": {},
   "source": [
    "## Echantillionnage d'importance"
   ]
  },
  {
   "cell_type": "code",
   "execution_count": 15,
   "metadata": {},
   "outputs": [],
   "source": [
    "## Echantillionage d'importance\n",
    "def quantiles_importance(P0, T, lamb, m, size, f):\n",
    "  if m == 1:\n",
    "    value = np.array([-1, 1])\n",
    "    p = np.array([1/2, 1/2])\n",
    "  else:\n",
    "    value = np.array([-3, -2, -1, 1, 2, 3])\n",
    "    p = np.array([1 / 12, 1 / 6, 1 / 4, 1 / 4, 1 / 6, 1 / 12])\n",
    "    \n",
    "  # Nouvelle loi\n",
    "  s = np.sum(np.exp(f[value]) * p)\n",
    "  new_lamb = lamb * s\n",
    "  new_p = np.exp(f[value]) * p / s\n",
    "\n",
    "  N = np.random.poisson(lam=new_lamb * T, size=size + 1)\n",
    "  N[0] = 0\n",
    "  N = N.cumsum()                    # La valeur N[i] - N[i - 1] est égale à Ni pour le i-ième échantillon\n",
    "                                    # Donc la somme des sauts entre indice N[i] et N[i + 1] - 1 suit la loi voulue\n",
    "  values_L_T = np.zeros((size, 2))\n",
    "\n",
    "  J = np.random.choice(value, size=N[-1] + 1, p=new_p)\n",
    "  X_T_f = f[J]\n",
    "\n",
    "  J = np.cumsum(J)\n",
    "  X_T_f = np.cumsum(X_T_f)\n",
    "\n",
    "  values_L_T[:, 0] = P0 + J[N[1:]] - J[N[:-1]]          # On veut la somme entre l'indice N[i] + 1 et N[i + 1]\n",
    "  values_L_T[:, 1] = 1. / (np.exp(X_T_f[N[1:]] - X_T_f[N[:-1]] - (s - 1) * lamb * T)) / size\n",
    "\n",
    "  values_L_T = values_L_T[(values_L_T[:, 0]).argsort()]             # sort by P_T\n",
    "  values_L_T[:, 1] = values_L_T[:, 1].cumsum()\n",
    "  return values_L_T # échantillon de taille (size)"
   ]
  },
  {
   "cell_type": "code",
   "execution_count": 16,
   "metadata": {},
   "outputs": [],
   "source": [
    "def IC_quantile_importance(quantiles, niveau):\n",
    "    n = len(quantiles)\n",
    "    \n",
    "    index_ = np.where(quantiles[:, 1] > niveau)[0][0]\n",
    "    niveau_inf = (niveau - 1.96 * np.sqrt(niveau * (1-niveau) / n))\n",
    "    niveau_sup = (niveau + 1.96 * np.sqrt(niveau * (1-niveau) / n))\n",
    "    index_inf = np.where(quantiles[:, 1] > niveau_inf)[0][0]\n",
    "    index_sup = np.where(quantiles[:, 1] > niveau_sup)[0][0]\n",
    "    q = quantiles[index_]\n",
    "    print(\"Quantile au niveau {} = {}, avec intervalle de confiance = {}, {}\".format(niveau, \n",
    "                                                                                     int(q[0]), \n",
    "                                                                                     int(quantiles[index_inf][0]), \n",
    "                                                                                     int(quantiles[index_sup][0])))"
   ]
  },
  {
   "cell_type": "code",
   "execution_count": 17,
   "metadata": {},
   "outputs": [
    {
     "name": "stdout",
     "output_type": "stream",
     "text": [
      "Quantile au niveau 0.0001 = 9, avec intervalle de confiance = 9, 9\n",
      "Quantile au niveau 1e-05 = 5, avec intervalle de confiance = 5, 5\n",
      "Quantile au niveau 1e-06 = 2, avec intervalle de confiance = 0, 2\n",
      "CPU times: user 13.9 s, sys: 3.21 s, total: 17.1 s\n",
      "Wall time: 17.2 s\n"
     ]
    }
   ],
   "source": [
    "%%time\n",
    "c = -0.8\n",
    "M = int(1e7)\n",
    "values = np.array([0, 1, -1])\n",
    "f = c * values\n",
    "values_L_T = quantiles_importance(P0, T, lamb, 1, M, f)\n",
    "\n",
    "quantiles = [1e-4, 1e-5, 1e-6]\n",
    "for quantile in quantiles:\n",
    "    IC_quantile_importance(values_L_T, quantile)"
   ]
  },
  {
   "cell_type": "code",
   "execution_count": 18,
   "metadata": {},
   "outputs": [
    {
     "name": "stdout",
     "output_type": "stream",
     "text": [
      "Quantile au niveau 0.0001 = -12, avec intervalle de confiance = -13, -12\n",
      "Quantile au niveau 1e-05 = -20, avec intervalle de confiance = -20, -19\n",
      "Quantile au niveau 1e-06 = -26, avec intervalle de confiance = -30, -25\n",
      "CPU times: user 18.4 s, sys: 3.57 s, total: 22 s\n",
      "Wall time: 22.1 s\n"
     ]
    }
   ],
   "source": [
    "%%time\n",
    "c = -0.35\n",
    "values = np.array([0, 1, 2, 3, -1, -2, -3])\n",
    "f = c * values\n",
    "values_L_T = quantiles_importance(P0, T, lamb, 3, int(1e7), f)\n",
    "quantiles = [1e-4, 1e-5, 1e-6]\n",
    "for quantile in quantiles:\n",
    "    IC_quantile_importance(values_L_T, quantile)"
   ]
  },
  {
   "cell_type": "code",
   "execution_count": 0,
   "metadata": {
    "colab": {},
    "colab_type": "code",
    "id": "ky9oTvowbPDM"
   },
   "outputs": [],
   "source": [
    "#Calcul quantile par échantillonnage d'importance\n",
    "#Voir slides amphi 2 p.12 pour calcul quantile avec changement de probabilité\n",
    "#Ensuite voir amphi 3 pour changements de proba Poisson composés\n",
    "#Différence importance sampling/échantillonage d'importance et changement de probabilité ?\n",
    "#Transfo d'Esscher"
   ]
  },
  {
   "cell_type": "code",
   "execution_count": 19,
   "metadata": {},
   "outputs": [],
   "source": [
    "## Echantillionage d'importance\n",
    "def quantiles_importance(P0, T, lamb, m, size, f):\n",
    "  if m == 1:\n",
    "    value = np.array([-1, 1])\n",
    "    p = np.array([1/2, 1/2])\n",
    "  else:\n",
    "    value = np.array([-3, -2, -1, 1, 2, 3])\n",
    "    p = np.array([1 / 12, 1 / 6, 1 / 4, 1 / 4, 1 / 6, 1 / 12])\n",
    "    \n",
    "  # Nouvelle loi\n",
    "  s = np.sum(np.exp(f[value]) * p)\n",
    "  new_lamb = lamb * s\n",
    "  new_p = np.exp(f[value]) * p / s\n",
    "\n",
    "  N = np.random.poisson(lam=new_lamb * T, size=size + 1)\n",
    "  N[0] = 0\n",
    "  N = N.cumsum()                    # La valeur N[i] - N[i - 1] est égale à Ni pour le i-ième échantillon\n",
    "                                    # Donc la somme des sauts entre indice N[i] et N[i + 1] - 1 suit la loi voulue\n",
    "  values_L_T = np.zeros((size, 2))\n",
    "\n",
    "  J = np.random.choice(value, size=N[-1] + 1, p=new_p)\n",
    "  X_T_f = f[J]\n",
    "\n",
    "  J = np.cumsum(J)\n",
    "  X_T_f = np.cumsum(X_T_f)\n",
    "\n",
    "  values_L_T[:, 0] = P0 + J[N[1:]] - J[N[:-1]]          # On veut la somme entre l'indice N[i] + 1 et N[i + 1]\n",
    "  values_L_T[:, 1] = 1. / (np.exp(X_T_f[N[1:]] - X_T_f[N[:-1]] - (s - 1) * lamb * T)) / size\n",
    "\n",
    "  values_L_T = values_L_T[(-values_L_T[:, 0]).argsort()]             # sort by P_T\n",
    "  values_L_T[:, 1] = values_L_T[:, 1].cumsum()\n",
    "  return values_L_T # échantillon de taille (size)"
   ]
  },
  {
   "cell_type": "code",
   "execution_count": 20,
   "metadata": {},
   "outputs": [
    {
     "name": "stdout",
     "output_type": "stream",
     "text": [
      "Quantile au niveau 0.0001 = 61, avec intervalle de confiance = 61, 61\n",
      "Quantile au niveau 1e-05 = 65, avec intervalle de confiance = 65, 65\n",
      "Quantile au niveau 1e-06 = 68, avec intervalle de confiance = 70, 68\n",
      "CPU times: user 14.4 s, sys: 3.16 s, total: 17.5 s\n",
      "Wall time: 17.5 s\n"
     ]
    }
   ],
   "source": [
    "%%time\n",
    "c = 0.8\n",
    "M = int(1e7)\n",
    "values = np.array([0, 1, -1])\n",
    "f = c * values\n",
    "values_L_T = quantiles_importance(P0, T, lamb, 1, M, f)\n",
    "\n",
    "quantiles = [1e-4, 1e-5, 1e-6]\n",
    "for quantile in quantiles:\n",
    "    IC_quantile_importance(values_L_T, quantile)"
   ]
  },
  {
   "cell_type": "code",
   "execution_count": 21,
   "metadata": {},
   "outputs": [
    {
     "name": "stdout",
     "output_type": "stream",
     "text": [
      "Quantile au niveau 0.0001 = 83, avec intervalle de confiance = 83, 83\n",
      "Quantile au niveau 1e-05 = 90, avec intervalle de confiance = 91, 90\n",
      "Quantile au niveau 1e-06 = 97, avec intervalle de confiance = 99, 95\n",
      "CPU times: user 16.2 s, sys: 2.72 s, total: 18.9 s\n",
      "Wall time: 18.9 s\n"
     ]
    }
   ],
   "source": [
    "%%time\n",
    "c = 0.35\n",
    "values = np.array([0, 1, 2, 3, -1, -2, -3])\n",
    "f = c * values\n",
    "values_L_T = quantiles_importance(P0, T, lamb, 3, int(1e7), f)\n",
    "quantiles = [1e-4, 1e-5, 1e-6]\n",
    "for quantile in quantiles:\n",
    "    IC_quantile_importance(values_L_T, quantile)"
   ]
  }
 ],
 "metadata": {
  "colab": {
   "collapsed_sections": [
    "XO0iJelvzaxI",
    "cCgK9NrFzQfO",
    "f6ZpnHtBhElE",
    "ntNKzkWPzUT1",
    "fKihS64UzPW5",
    "GoJBPfJ4T0FL",
    "GiQmq9gl0gSv"
   ],
   "machine_shape": "hm",
   "name": "Projet_Modal.ipynb",
   "provenance": []
  },
  "kernelspec": {
   "display_name": "Python 3",
   "language": "python",
   "name": "python3"
  },
  "language_info": {
   "codemirror_mode": {
    "name": "ipython",
    "version": 3
   },
   "file_extension": ".py",
   "mimetype": "text/x-python",
   "name": "python",
   "nbconvert_exporter": "python",
   "pygments_lexer": "ipython3",
   "version": "3.8.3"
  }
 },
 "nbformat": 4,
 "nbformat_minor": 1
}
