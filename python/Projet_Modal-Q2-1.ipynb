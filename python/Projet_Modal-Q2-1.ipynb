{
 "cells": [
  {
   "cell_type": "code",
   "execution_count": 1,
   "metadata": {},
   "outputs": [],
   "source": [
    "import numpy as np\n",
    "import scipy\n",
    "import matplotlib.pyplot as plt"
   ]
  },
  {
   "cell_type": "code",
   "execution_count": 2,
   "metadata": {
    "colab": {},
    "colab_type": "code",
    "id": "t4VEAteSz9sG"
   },
   "outputs": [],
   "source": [
    "# On identifie le processus par le processus de Poisson composé, qui finit à un temps fixé T\n",
    "# On crée des fonctions pour modéliser le processus.\n",
    "\n",
    "#### On définit nu, la loi des incréments\n",
    "# Ancien : plus lent\n",
    "saut_1_ancien = lambda x: np.random.choice([-1, 1], size=x, replace=True, p=[0.5, 0.5]) #correspond à m=1\n",
    "saut_2_ancien = lambda x: np.random.choice([-3, -2, -1, 1, 2, 3], size=x, replace=True, p=0.5*np.array([1/6, 1/3, 1/2, 1/2, 1/3, 1/6])) #correspond à m=3\n",
    "\n",
    "# Nouveau : beaucoup plus vite\n",
    "value_1 = np.array([-1, 1])\n",
    "value_2 = np.array([-3, -2, -2, -1, -1, -1, 1, 1, 1, 2, 2, 3])\n",
    "saut_1 = lambda x : value_1[np.random.randint(low=2, size=x)]\n",
    "saut_2 = lambda x : value_2[np.random.randint(low=12, size=x)]"
   ]
  },
  {
   "cell_type": "markdown",
   "metadata": {
    "colab_type": "text",
    "id": "f6ZpnHtBhElE"
   },
   "source": [
    "##  Q2\n",
    "\n",
    "\n"
   ]
  },
  {
   "cell_type": "markdown",
   "metadata": {
    "colab_type": "text",
    "id": "ntNKzkWPzUT1"
   },
   "source": [
    "### Q2-1 Probabilité de ruine"
   ]
  },
  {
   "cell_type": "code",
   "execution_count": 3,
   "metadata": {
    "colab": {},
    "colab_type": "code",
    "id": "-gWx6eAMzNhE"
   },
   "outputs": [],
   "source": [
    "#Monte-Carlo accéléré - Méthode 2\n",
    "from numba import jit\n",
    "from numpy.random import exponential, randint, poisson\n",
    "from numpy import array\n",
    "from tqdm.notebook import tqdm\n",
    "\n",
    "@jit(nopython=True)\n",
    "def Q2_1_MC(P0, T, m):\n",
    "  if m == 1:\n",
    "    value = array([-1, 1])\n",
    "    low = 2\n",
    "  else:\n",
    "    value = array([-3, -2, -2, -1, -1, -1, 1, 1, 1, 2, 2, 3])\n",
    "    low = 12\n",
    "  J2_0 = array([-1, 1])[randint(low=2)]\n",
    "\n",
    "  somme = P0\n",
    "  T1 = exponential(660)\n",
    "  T2 = exponential(110)\n",
    "  while T1 < T:\n",
    "    while T2 < T1:\n",
    "      somme += J2_0\n",
    "      if somme < 0:\n",
    "        return 1\n",
    "      J2_0 *= -1\n",
    "      T2 += exponential(110)\n",
    "    somme += value[randint(low=low)]\n",
    "    if somme < 0:\n",
    "      return 1\n",
    "    T1 += exponential(660)\n",
    "  return 0\n",
    "\n",
    "def Q2_1_MC_n(P0, T, m, size):\n",
    "  somme = 0\n",
    "  for i in tqdm(range(size)):\n",
    "    somme += Q2_1_MC(P0, T, m)\n",
    "  return somme / size"
   ]
  },
  {
   "cell_type": "code",
   "execution_count": 4,
   "metadata": {},
   "outputs": [
    {
     "data": {
      "application/vnd.jupyter.widget-view+json": {
       "model_id": "cd397783f84847569081766d706bcf09",
       "version_major": 2,
       "version_minor": 0
      },
      "text/plain": [
       "HBox(children=(FloatProgress(value=0.0, max=10000000.0), HTML(value='')))"
      ]
     },
     "metadata": {},
     "output_type": "display_data"
    },
    {
     "name": "stdout",
     "output_type": "stream",
     "text": [
      "\n",
      "5.05e-05 +/- 4.404440974284932e-06\n",
      "CPU times: user 1min 1s, sys: 159 ms, total: 1min 2s\n",
      "Wall time: 1min 1s\n"
     ]
    }
   ],
   "source": [
    "%%time\n",
    "P0=35\n",
    "T = 4*3600\n",
    "m = 3\n",
    "M=int(1e7)\n",
    "\n",
    "p_r = Q2_1_MC_n(P0, T, m, M)\n",
    "\n",
    "R_IC = 1.96*np.sqrt(p_r*(1-p_r))/np.sqrt(M) #rayon de l'intervalle de confiance\n",
    "print(p_r, \"+/-\", R_IC)\n",
    "#print(\"Estimation de la probabilité de ruine pour m=3 par méthode de Monte-Carlo accélérée: {:09.8f}+/-{:09.8f}\".format(p_r,R_IC))\n",
    "\n",
    "#P0=35, M=10^5, m=3: p_r = 3 10^-5 et R_IC = 3.4 10^-5 => faut augmenter M\n",
    "#Estimation de la probabilité de ruine pour m=3 par méthode de Monte-Carlo accélérée: 0.00005200+/-0.00001413"
   ]
  },
  {
   "cell_type": "markdown",
   "metadata": {},
   "source": [
    "m = 1 : Le résultat est très petit, on a utilisé un fichier Q2_1-Monte-Carlo.py pour le faire tourner sur un terminal séparé.\n",
    "\n",
    "Le résultat est ... pour M = int(1e10)"
   ]
  },
  {
   "cell_type": "code",
   "execution_count": 11,
   "metadata": {},
   "outputs": [
    {
     "name": "stdout",
     "output_type": "stream",
     "text": [
      "quantile 0.0001 for m = 1 : 17.62849755652073\n",
      "quantile 0.9999 for m = 1 : 52.3715024434794\n",
      "quantile 1e-05 for m = 1 : 15.078722119801292\n",
      "quantile 0.99999 for m = 1 : 54.921277880203455\n",
      "quantile 1e-06 for m = 1 : 12.796785166577937\n",
      "quantile 0.999999 for m = 1 : 57.20321483339492\n",
      "quantile 0.0001 for m = 3 : 3.2841208465009686\n",
      "quantile 0.9999 for m = 3 : 66.71587915349927\n",
      "quantile 1e-05 for m = 3 : -1.3711108977117732\n",
      "quantile 0.99999 for m = 3 : 71.37111089772044\n",
      "quantile 1e-06 for m = 3 : -5.53733871132858\n",
      "quantile 0.999999 for m = 3 : 75.53733871127902\n"
     ]
    }
   ],
   "source": [
    "from scipy.stats import norm\n",
    "quantiles = [1e-4, 1 - 1e-4, 1e-5, 1 - 1e-5, 1e-6, 1 - 1e-6]\n",
    "P0 = 35\n",
    "lamb = 1 / 660\n",
    "T = 4 * 60 * 60\n",
    "ms = [1, 3]\n",
    "for m in ms:\n",
    "  for quantile in quantiles:\n",
    "    if m == 1:\n",
    "      sigma_carre = 1\n",
    "    elif m == 3:\n",
    "      sigma_carre = 10 / 3\n",
    "    print(\"quantile {} for m = {} : {}\".format(quantile, m, norm.ppf(quantile, loc=35, scale=np.sqrt(lamb * T * sigma_carre))))"
   ]
  },
  {
   "cell_type": "markdown",
   "metadata": {},
   "source": [
    "#### Echantillonnage d'importance"
   ]
  },
  {
   "cell_type": "code",
   "execution_count": 4,
   "metadata": {},
   "outputs": [],
   "source": [
    "def ruine(lamb1,lamb2,T,P0,c,increment1_c,esp):\n",
    "    #returns 0,0 if no price is strictly negative\n",
    "    #returns 1, 1/L_T otherwise\n",
    "\n",
    "    t1=np.random.exponential(1/lamb1/esp)\n",
    "    t2=np.random.exponential(1/lamb2)\n",
    "    P = P0\n",
    "    Pmin=P0\n",
    "\n",
    "    sumIncrements1=0\n",
    "    increment2 = -1+2*np.random.binomial(1,0.5) #pour savoir si le premier incrément du processus 2 vaut 1 ou -1\n",
    "\n",
    "    while t1<T or t2<T:\n",
    "        if P<Pmin:\n",
    "            Pmin=P\n",
    "\n",
    "        if (t2<t1):\n",
    "            P+=increment2\n",
    "            increment2 *=-1\n",
    "            t2+=np.random.exponential(1/lamb2)\n",
    "        else:\n",
    "            increment1= increment1_c(1)\n",
    "            sumIncrements1+=increment1\n",
    "            P+=increment1\n",
    "            t1+=np.random.exponential(1/lamb1/esp)\n",
    "\n",
    "    if Pmin<0:\n",
    "        return 1,np.exp(lamb1*T*(esp-1)-c*sumIncrements1)\n",
    "    return 0,0\n",
    "\n",
    "def echant_imp(M,lamb1,lamb2,T,P0,c,m): \n",
    "    liste_ruine = np.zeros(M) \n",
    "    liste_poids = np.zeros(M) #liste des 1/L_T pour l'échantillonnage d'importance\n",
    "    \n",
    "    if m==1:\n",
    "        esp = np.cosh(c) #E[exp(c J_1)]\n",
    "        increment1_c = lambda x: np.random.choice([-1,1],p=np.array([np.exp(-c),np.exp(c)])/(2*esp))\n",
    "\n",
    "    if m==3:\n",
    "        esp = np.cosh(c)/2 +np.cosh(2*c)/3 + np.cosh(3*c)/6\n",
    "        increment1_c = lambda x: np.random.choice([-3,-2,-1,1,2,3],p=np.array([np.exp(-3*c)/12,np.exp(-2*c)/6,np.exp(-c)/4,np.exp(c)/4,np.exp(2*c)/6,np.exp(3*c)/12])/esp)\n",
    "\n",
    "    for l in range(M):\n",
    "        liste_ruine[l],liste_poids[l] = ruine(lamb1,lamb2,T,P0,c,increment1_c,esp) \n",
    "    proba_prix_negatif = np.mean(liste_ruine*liste_poids)\n",
    "    R_IC = 1.96*np.sqrt(np.mean(liste_ruine*liste_poids*liste_poids) - proba_prix_negatif**2)/np.sqrt(M)\n",
    "    return np.mean(liste_ruine),proba_prix_negatif,R_IC #il faut que np.mean(liste_ruine) soit environ 0.5 pour que c soit bien réglé\n"
   ]
  },
  {
   "cell_type": "code",
   "execution_count": 8,
   "metadata": {},
   "outputs": [
    {
     "name": "stdout",
     "output_type": "stream",
     "text": [
      "La probabilité de prix négatif pour m=1 est 1.4887029896232638e-12 +/- 6.513949115417591e-15\n",
      "On a choisi c = -1.3, ce qui donne comme proportion de prix négatifs : 0.6007454 (cette proportion devrait être proche de 0.5)\n",
      "CPU times: user 4h 13min 50s, sys: 10min 6s, total: 4h 23min 56s\n",
      "Wall time: 4h 13min 30s\n"
     ]
    }
   ],
   "source": [
    "%%time\n",
    "M=int(1e7)\n",
    "c=-1.3\n",
    "m=1\n",
    "P0=35\n",
    "T=4*60*60\n",
    "lamb1 = 1/660\n",
    "lamb2 = 1/110\n",
    "\n",
    "fraction_negatifs,proba_prix_negatif,R_IC = echant_imp(M,lamb1,lamb2,T,P0,c,m)\n",
    "print(\"La probabilité de prix négatif pour m={} est {} +/- {}\".format(m,proba_prix_negatif,R_IC))\n",
    "print(\"On a choisi c = {}, ce qui donne comme proportion de prix négatifs : {} (cette proportion devrait être proche de 0.5)\".format(c,fraction_negatifs))\n",
    "\n",
    "#La probabilité de prix négatif pour m=1 est 1.5381890748570916e-12 +/- 6.387042482281324e-14\n",
    "#On a choisi c = -1.3, ce qui donne comme proportion de prix négatifs : 0.60214 (cette proportion devrait être proche de 0.5)"
   ]
  },
  {
   "cell_type": "code",
   "execution_count": 9,
   "metadata": {},
   "outputs": [
    {
     "name": "stdout",
     "output_type": "stream",
     "text": [
      "La probabilité de prix négatif pour m=3 est 5.0975247656192116e-05 +/- 1.1977057028361074e-07\n",
      "On a choisi c = -0.4, ce qui donne comme proportion de prix négatifs : 0.4515575 (cette proportion devrait être proche de 0.5)\n"
     ]
    }
   ],
   "source": [
    "c = -0.4\n",
    "m=3\n",
    "fraction_negatifs,proba_prix_negatif,R_IC = echant_imp(M,lamb1,lamb2,T,P0,c,m)\n",
    "print(\"La probabilité de prix négatif pour m={} est {} +/- {}\".format(m,proba_prix_negatif,R_IC))\n",
    "print(\"On a choisi c = {}, ce qui donne comme proportion de prix négatifs : {} (cette proportion devrait être proche de 0.5)\".format(c,fraction_negatifs))"
   ]
  }
 ],
 "metadata": {
  "colab": {
   "collapsed_sections": [
    "XO0iJelvzaxI",
    "cCgK9NrFzQfO",
    "f6ZpnHtBhElE",
    "ntNKzkWPzUT1",
    "fKihS64UzPW5",
    "GoJBPfJ4T0FL",
    "GiQmq9gl0gSv"
   ],
   "machine_shape": "hm",
   "name": "Projet_Modal.ipynb",
   "provenance": []
  },
  "kernelspec": {
   "display_name": "Python 3",
   "language": "python",
   "name": "python3"
  },
  "language_info": {
   "codemirror_mode": {
    "name": "ipython",
    "version": 3
   },
   "file_extension": ".py",
   "mimetype": "text/x-python",
   "name": "python",
   "nbconvert_exporter": "python",
   "pygments_lexer": "ipython3",
   "version": "3.7.6"
  }
 },
 "nbformat": 4,
 "nbformat_minor": 2
}
