{
 "cells": [
  {
   "cell_type": "code",
   "execution_count": 19,
   "metadata": {},
   "outputs": [],
   "source": [
    "import numpy as np\n",
    "from scipy.stats import binom\n",
    "from math import ceil\n",
    "def IC_quantile(quantiles, niveau):\n",
    "    n = len(quantiles)\n",
    "    quantiles = np.sort(quantiles)\n",
    "    index_ = ceil(n * niveau) - 1\n",
    "    q = quantiles[index_]\n",
    "    k1, k2 = binom.interval(0.95, n, niveau, loc=0)\n",
    "    k1, k2 = int(k1), int(k2)\n",
    "    print(\"Quantile au niveau {} = {}, avec intervalle de confiance = {}, {}\".format(niveau, \n",
    "                                                                                     q, \n",
    "                                                                                     quantiles[k1], \n",
    "                                                                                     quantiles[k2 + 1]))"
   ]
  },
  {
   "cell_type": "code",
   "execution_count": 20,
   "metadata": {},
   "outputs": [
    {
     "name": "stdout",
     "output_type": "stream",
     "text": [
      "Quantile au niveau 0.3 = 29, avec intervalle de confiance = 21, 40\n"
     ]
    }
   ],
   "source": [
    "IC_quantile(quantiles, niveau)"
   ]
  },
  {
   "cell_type": "code",
   "execution_count": 10,
   "metadata": {},
   "outputs": [
    {
     "data": {
      "text/plain": [
       "(671.0, 728.0)"
      ]
     },
     "execution_count": 10,
     "metadata": {},
     "output_type": "execute_result"
    }
   ],
   "source": [
    "binom.interval(0.95, 1000, 0.7, loc=0)"
   ]
  }
 ],
 "metadata": {
  "kernelspec": {
   "display_name": "Python 3",
   "language": "python",
   "name": "python3"
  },
  "language_info": {
   "codemirror_mode": {
    "name": "ipython",
    "version": 3
   },
   "file_extension": ".py",
   "mimetype": "text/x-python",
   "name": "python",
   "nbconvert_exporter": "python",
   "pygments_lexer": "ipython3",
   "version": "3.7.6"
  }
 },
 "nbformat": 4,
 "nbformat_minor": 4
}
