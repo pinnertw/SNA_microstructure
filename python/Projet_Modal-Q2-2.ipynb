{
 "cells": [
  {
   "cell_type": "markdown",
   "metadata": {
    "colab_type": "text",
    "id": "fYxLxoxbt1AW"
   },
   "source": [
    "**Tester le code avec des événements plus probable!!!**\n",
    "## To do list:\n",
    "* Q1-1\n",
    "#####* Splitting (Diane) (faudrait jouer avec le nombre de niveaux de splitting, donc avec la valeur de la variable \"seuil\", pour voir ce qui donne la meilleure précision)\n",
    "#####* Echantillonage d'importance (Peng-Wei) (C'est bon!!, à tester différent f)\n",
    "#####* Chaîne de Markov\n",
    "#####* Graphique : Comparaison de différentes méthodes.\n",
    "\n",
    "* Q1-2\n",
    "#####* Quantile processus AR(1) (comme dans calcul liste_a Q1-1) (Diane)\n",
    "#####* Quantile échantillonnage d'importance (Diane)\n",
    "* Q2\n",
    "#####* M-C (Peng-Wei)\n",
    "\n",
    "* Q3\n",
    "# Finished :\n",
    "* Q1\n",
    "#####* Monte-Carlo naïve\n",
    "* Q\n"
   ]
  },
  {
   "cell_type": "code",
   "execution_count": 1,
   "metadata": {},
   "outputs": [],
   "source": [
    "import numpy as np\n",
    "import math\n",
    "import matplotlib.pyplot\n",
    "## Calcul de IC pour les quantiles\n",
    "from scipy.stats import binom\n",
    "from math import ceil\n",
    "def IC_quantile(quantiles, niveau):\n",
    "    n = len(quantiles)\n",
    "    quantiles = np.sort(quantiles)\n",
    "    index_ = ceil(n * niveau) - 1\n",
    "    niveau_inf = ceil(n * (niveau - 1.96 * np.sqrt(niveau * (1-niveau) / n))) - 1\n",
    "    niveau_sup = ceil(n * (niveau + 1.96 * np.sqrt(niveau * (1-niveau) / n))) - 1\n",
    "    q = quantiles[index_]\n",
    "    print(\"Quantile au niveau {} = {}, avec intervalle de confiance = {}, {}\".format(niveau, \n",
    "                                                                                     q, \n",
    "                                                                                     quantiles[niveau_inf], \n",
    "                                                                                     quantiles[niveau_sup]))"
   ]
  },
  {
   "cell_type": "markdown",
   "metadata": {
    "colab_type": "text",
    "id": "CN5LC1dmz9LE"
   },
   "source": [
    "## Q1"
   ]
  },
  {
   "cell_type": "markdown",
   "metadata": {
    "colab_type": "text",
    "id": "a6x5boyyXei6"
   },
   "source": [
    "Dans cette première modélisation simplifiée, on considère donc que le prix $P_t$ est un processus de Poisson de paramètres $\\lambda, \\nu$ où $\\nu$ est la loi des incréments $J_n$. \n",
    "\n",
    "Pour un temps d'attente moyen entre deux sauts de $300s$, on prend $\\lambda = \\dfrac{1}{300}$\n"
   ]
  },
  {
   "cell_type": "code",
   "execution_count": 2,
   "metadata": {
    "colab": {},
    "colab_type": "code",
    "id": "t4VEAteSz9sG"
   },
   "outputs": [],
   "source": [
    "# On identifie le processus par le processus de Poisson composé, qui finit à un temps fixé T\n",
    "# On crée des fonctions pour modéliser le processus.\n",
    "\n",
    "#### On définit nu, la loi des incréments\n",
    "# Ancien : plus lent\n",
    "saut_1_ancien = lambda x: np.random.choice([-1, 1], size=x, replace=True, p=[0.5, 0.5]) #correspond à m=1\n",
    "saut_2_ancien = lambda x: np.random.choice([-3, -2, -1, 1, 2, 3], size=x, replace=True, p=0.5*np.array([1/6, 1/3, 1/2, 1/2, 1/3, 1/6])) #correspond à m=3\n",
    "\n",
    "# Nouveau : beaucoup plus vite\n",
    "value_1 = np.array([-1, 1])\n",
    "value_2 = np.array([-3, -2, -2, -1, -1, -1, 1, 1, 1, 2, 2, 3])\n",
    "saut_1 = lambda x : value_1[np.random.randint(low=2, size=x)]\n",
    "saut_2 = lambda x : value_2[np.random.randint(low=12, size=x)]\n",
    "\n",
    "# Les paramètres\n",
    "P0 = 35\n",
    "T = 4*60*60\n",
    "lamb = 1/300"
   ]
  },
  {
   "cell_type": "markdown",
   "metadata": {
    "colab_type": "text",
    "id": "fKihS64UzPW5"
   },
   "source": [
    "### Q2-2 Quantile"
   ]
  },
  {
   "cell_type": "markdown",
   "metadata": {
    "colab_type": "text",
    "id": "ZDhCCbs30IxJ"
   },
   "source": [
    "#### MCMC Naif"
   ]
  },
  {
   "cell_type": "code",
   "execution_count": 3,
   "metadata": {
    "colab": {},
    "colab_type": "code",
    "id": "vwtJXbe2bWNB"
   },
   "outputs": [],
   "source": [
    "#Naif - Méthode 1\n",
    "\n",
    "\n",
    "def Quantile_naif_2(seuil,n,lamb1,lamb2,T,P0,saut):\n",
    "\n",
    "    liste_P_t = np.zeros(n)\n",
    "    for i in range(n):\n",
    "        N1 = np.random.poisson(lamb1*T)\n",
    "        N2 = np.random.poisson(lamb2*T)\n",
    "        P2 = 0 \n",
    "        if (N2%2!=0): #si N2 est pair, la contribution du processus 2 vaut 0\n",
    "            P2=-1+2*np.random.binomial(1,0.5)\n",
    "        increments = saut(N1)\n",
    "        \n",
    "        liste_P_t[i] = np.sum(increments)+P0 +P2\n",
    "    liste_P_t = np.sort(liste_P_t)\n",
    "    return liste_P_t[int(np.ceil(n*seuil))-1]"
   ]
  },
  {
   "cell_type": "markdown",
   "metadata": {
    "colab_type": "text",
    "id": "Pn-ClxeH9A-S"
   },
   "source": []
  },
  {
   "cell_type": "markdown",
   "metadata": {
    "colab_type": "text",
    "id": "k1Q0VUze0Muj"
   },
   "source": [
    "#### MCMC numba"
   ]
  },
  {
   "cell_type": "code",
   "execution_count": 4,
   "metadata": {
    "colab": {},
    "colab_type": "code",
    "id": "rElL76uEo8BI"
   },
   "outputs": [],
   "source": [
    "#MC Accéléré - Méthode 2 (pas plus rapide ?)\n",
    "\n",
    "# On identifie le processus par le processus de Poisson composé, qui finit à un temps fixé T\n",
    "# On crée des fonctions pour modéliser le processus.\n",
    "\n",
    "\n",
    "def Q2_2_MC(P0, T, lamb1, lamb2, saut):\n",
    "  # saut : une fonction qui prend la taille de sortie comme entrée pour les sauts.\n",
    "  N1 = np.random.poisson(lam=lamb1 * T)\n",
    "  T1 = np.sort(np.random.uniform(low=0.0, high=T, size=N1))\n",
    "  J1 = saut(N1)\n",
    "\n",
    "  N2 = np.random.poisson(lam=lamb2 * T)\n",
    "  T2 = np.sort(np.random.uniform(low=0.0, high=T, size=N2))\n",
    "\n",
    "  J2_0 = saut_1(1)[0]\n",
    "\n",
    "  somme = P0\n",
    "  index_T2 = 0\n",
    "  for i in range(len(T1)):\n",
    "    while index_T2 < N2 and T2[index_T2] < T1[i]:\n",
    "      somme += J2_0\n",
    "      J2_0 *= -1\n",
    "      index_T2 += 1\n",
    "    somme += J1[i]\n",
    "  return somme                      # 1 échantillon\n",
    "\n",
    "def Q2_2_MC_n(P0, T, lamb1, lamb2, saut, size):\n",
    "  res = []\n",
    "  for i in range(size):\n",
    "    res.append(Q2_2_MC(P0, T, lamb1, lamb2, saut))\n",
    "  return np.array(res)\n",
    "\n",
    "def quantile(echantillion, size, quant):\n",
    "  index_bot = int(math.ceil(size * quant))\n",
    "  index_top = int(math.ceil(size * (1 - quant)))\n",
    "  echantillion.partition((index_bot, index_top))\n",
    "  return echantillion[index_bot], echantillion[index_top]\n",
    "\n",
    "def Question2_2_naif(size, quant, saut, P0, T, lamb1, lamb2):\n",
    "  return quantile(Q2_2_MC_n(P0, T, lamb1, lamb2, saut, size), size, quant)"
   ]
  },
  {
   "cell_type": "code",
   "execution_count": 5,
   "metadata": {
    "colab": {
     "base_uri": "https://localhost:8080/",
     "height": 68
    },
    "colab_type": "code",
    "id": "Wsej5YbG6mrG",
    "outputId": "bf1a9006-6d04-4c36-8a2e-69c27f464f79"
   },
   "outputs": [
    {
     "name": "stdout",
     "output_type": "stream",
     "text": [
      "Quantile au niveau 1e-06 = 12, avec intervalle de confiance = 11, 12\n",
      "Quantile au niveau 1e-05 = 14, avec intervalle de confiance = 14, 15\n",
      "Quantile au niveau 0.0001 = 17, avec intervalle de confiance = 17, 17\n",
      "Quantile au niveau 0.9999 = 53, avec intervalle de confiance = 53, 53\n",
      "Quantile au niveau 0.99999 = 56, avec intervalle de confiance = 55, 56\n",
      "Quantile au niveau 0.999999 = 58, avec intervalle de confiance = 57, 59\n",
      "CPU times: user 21min 47s, sys: 3.24 s, total: 21min 50s\n",
      "Wall time: 21min 54s\n"
     ]
    }
   ],
   "source": [
    "%%time \n",
    "P0 = 35\n",
    "T = 4*60*60\n",
    "lamb1 = 1/660\n",
    "lamb2 = 1/110\n",
    "n = int(1e7)\n",
    "quantiles = Q2_2_MC_n(P0, T, lamb1, lamb2, saut_1, n)\n",
    "for quantile in [1e-6, 1e-5, 1e-4, 1 - 1e-4, 1 - 1e-5, 1 - 1e-6]:\n",
    "    IC_quantile(quantiles, quantile)\n",
    "#(19, 52) pour m=1 seuil 10^-4 n =10^4\n",
    "#(14,56) pour m=1 seuil 10^-5 n =10^5\n",
    "#Donne ... pour n = 10^6 et seuil=1e-6 et m=1\n",
    "#Donne (0, 69) pour n = 10^4 et seuil=1e-4 et m=3\n",
    "#Donne (-2, 71) pour n = 10^5 et seuil=1e-5 et m=3\n",
    "#Donne pour n = 10^5 et seuil=1e-6 et m=3"
   ]
  },
  {
   "cell_type": "code",
   "execution_count": 6,
   "metadata": {
    "colab": {
     "base_uri": "https://localhost:8080/",
     "height": 68
    },
    "colab_type": "code",
    "id": "9EcHj44bgLAg",
    "outputId": "86bce2ee-33b9-47e6-cfa6-d5e8729661c1"
   },
   "outputs": [
    {
     "name": "stdout",
     "output_type": "stream",
     "text": [
      "Quantile au niveau 1e-06 = -8, avec intervalle de confiance = -10, -7\n",
      "Quantile au niveau 1e-05 = -3, avec intervalle de confiance = -3, -3\n",
      "Quantile au niveau 0.0001 = 2, avec intervalle de confiance = 2, 2\n",
      "Quantile au niveau 0.9999 = 68, avec intervalle de confiance = 68, 68\n",
      "Quantile au niveau 0.99999 = 73, avec intervalle de confiance = 72, 73\n",
      "Quantile au niveau 0.999999 = 77, avec intervalle de confiance = 76, 78\n",
      "CPU times: user 21min 32s, sys: 2.47 s, total: 21min 35s\n",
      "Wall time: 21min 40s\n"
     ]
    }
   ],
   "source": [
    "%%time\n",
    "quantiles = Q2_2_MC_n(P0, T, lamb1, lamb2, saut_2, n)\n",
    "for quantile in [1e-6, 1e-5, 1e-4, 1 - 1e-4, 1 - 1e-5, 1 - 1e-6]:\n",
    "    IC_quantile(quantiles, quantile)\n",
    "#Donne 17/55 pour n = 10^4 et seuil=1e-4 et m=1\n",
    "#Donne (12.0, 56.0) pour n = 10^5 et seuil=1e-5 et m=1\n",
    "#Donne (11.0, 58.0) pour n = 10^6 et seuil=1e-6 et m=1\n",
    "#Donne (2.0, 65.0) pour n = 10^4 et seuil=1e-4 et m=3\n",
    "#Donne (-4.0, 73.0) pour n = 10^5 et seuil=1e-5 et m=3\n",
    "#Donne (-10.0, 77.0) pour n = 10^6 et seuil=1e-6 et m=3"
   ]
  },
  {
   "cell_type": "markdown",
   "metadata": {},
   "source": [
    "### Echant d'imp"
   ]
  },
  {
   "cell_type": "code",
   "execution_count": 7,
   "metadata": {},
   "outputs": [],
   "source": [
    "from numpy.random import exponential, choice\n",
    "from numba import jit\n",
    "\n",
    "@jit(nopython=True)\n",
    "def rand_choice_nb(arr, prob):\n",
    "    \"\"\"\n",
    "    :param arr: A 1D numpy array of values to sample from.\n",
    "    :param prob: A 1D numpy array of probabilities for the given samples.\n",
    "    :return: A random sample from the given array with a given probability.\n",
    "    \"\"\"\n",
    "    return arr[np.searchsorted(np.cumsum(prob), np.random.random(), side=\"right\")]\n",
    "\n",
    "@jit(nopython=True)\n",
    "def quantile_sample(lamb1,lamb2,T,P0,esp, values, p):\n",
    "    #returns 0,0 if no price is strictly negative\n",
    "    #returns 1, 1/L_T otherwise\n",
    "    t1=exponential(1/lamb1/esp)\n",
    "    t2=exponential(1/lamb2)\n",
    "    P = P0\n",
    "    sumIncrements1=0\n",
    "    increment2 = -1+2*np.random.binomial(1,0.5) #pour savoir si le premier incrément du processus 2 vaut 1 ou -1\n",
    "    while t1<T or t2<T:\n",
    "        if (t2<t1):\n",
    "            P+=increment2\n",
    "            increment2 *=-1\n",
    "            t2+=exponential(1/lamb2)\n",
    "        else:\n",
    "            increment1=rand_choice_nb(values,p)\n",
    "            sumIncrements1+=increment1\n",
    "            P+=increment1\n",
    "            t1+=exponential(1/lamb1/esp)\n",
    "    return P,np.exp(lamb1*T*(esp-1)-c*sumIncrements1)\n",
    "\n",
    "def echant_imp(M,lamb1,lamb2,T,P0,c,m):\n",
    "    liste_quantiles = np.zeros((M, 2))\n",
    "    if m == 3:\n",
    "        esp = np.cosh(c)/2 +np.cosh(2*c)/3 + np.cosh(3*c)/6\n",
    "        values = np.array([-3,-2,-1,1,2,3])\n",
    "        p = np.array([np.exp(-3*c)/12,np.exp(-2*c)/6,np.exp(-c)/4,np.exp(c)/4,np.exp(2*c)/6,np.exp(3*c)/12])/esp\n",
    "    else:\n",
    "        esp = np.cosh(c)\n",
    "        values = np.array([-1, 1])\n",
    "        p = np.array([np.exp(-c),np.exp(c)])/(2*np.cosh(c))\n",
    "    from tqdm.notebook import tqdm\n",
    "    for l in tqdm(range(M)):\n",
    "        liste_quantiles[l] = quantile_sample(lamb1,lamb2,T,P0,esp,values,p)\n",
    "\n",
    "    liste_quantiles = liste_quantiles[(liste_quantiles[:, 0]).argsort()]             # sort by P_T\n",
    "    liste_quantiles[:, 1] = liste_quantiles[:, 1].cumsum() / M\n",
    "    return liste_quantiles"
   ]
  },
  {
   "cell_type": "code",
   "execution_count": 8,
   "metadata": {},
   "outputs": [],
   "source": [
    "def IC_quantile_importance(quantiles, niveau):\n",
    "    n = len(quantiles)\n",
    "    \n",
    "    index_ = np.where(quantiles[:, 1] > niveau)[0][0]\n",
    "    niveau_inf = (niveau - 1.96 * np.sqrt(niveau * (1-niveau) / n))\n",
    "    niveau_sup = (niveau + 1.96 * np.sqrt(niveau * (1-niveau) / n))\n",
    "    index_inf = np.where(quantiles[:, 1] > niveau_inf)[0][0]\n",
    "    index_sup = np.where(quantiles[:, 1] > niveau_sup)[0][0]\n",
    "    q = quantiles[index_]\n",
    "    print(\"Quantile au niveau {} = {}, avec intervalle de confiance = {}, {}\".format(niveau, \n",
    "                                                                                     int(q[0]), \n",
    "                                                                                     int(quantiles[index_inf][0]), \n",
    "                                                                                     int(quantiles[index_sup][0])))"
   ]
  },
  {
   "cell_type": "code",
   "execution_count": 11,
   "metadata": {},
   "outputs": [
    {
     "data": {
      "application/vnd.jupyter.widget-view+json": {
       "model_id": "bc0bc3c4c6564ecaa218b623babe1381",
       "version_major": 2,
       "version_minor": 0
      },
      "text/plain": [
       "HBox(children=(FloatProgress(value=0.0, max=10000000.0), HTML(value='')))"
      ]
     },
     "metadata": {},
     "output_type": "display_data"
    },
    {
     "name": "stdout",
     "output_type": "stream",
     "text": [
      "\n",
      "Quantile au niveau 0.0001 = 17, avec intervalle de confiance = 17, 17\n",
      "Quantile au niveau 1e-05 = 14, avec intervalle de confiance = 14, 15\n",
      "Quantile au niveau 1e-06 = 12, avec intervalle de confiance = 11, 12\n",
      "CPU times: user 1min 36s, sys: 496 ms, total: 1min 37s\n",
      "Wall time: 1min 37s\n"
     ]
    }
   ],
   "source": [
    "%%time\n",
    "M=int(1e7)\n",
    "c=-1\n",
    "m=1\n",
    "P0=35\n",
    "T=4*60*60\n",
    "lamb1 = 1/660\n",
    "lamb2 = 1/110\n",
    "\n",
    "values_L_T = echant_imp(M,lamb1,lamb2,T,P0,c,m)\n",
    "\n",
    "quantiles = [1e-4, 1e-5, 1e-6]\n",
    "for quantile in quantiles:\n",
    "    IC_quantile_importance(values_L_T, quantile)"
   ]
  },
  {
   "cell_type": "code",
   "execution_count": 12,
   "metadata": {},
   "outputs": [],
   "source": [
    "# Recompile\n",
    "@jit(nopython=True)\n",
    "def rand_choice_nb(arr, prob):\n",
    "    \"\"\"\n",
    "    :param arr: A 1D numpy array of values to sample from.\n",
    "    :param prob: A 1D numpy array of probabilities for the given samples.\n",
    "    :return: A random sample from the given array with a given probability.\n",
    "    \"\"\"\n",
    "    return arr[np.searchsorted(np.cumsum(prob), np.random.random(), side=\"right\")]\n",
    "\n",
    "@jit(nopython=True)\n",
    "def quantile_sample(lamb1,lamb2,T,P0,esp, values, p):\n",
    "    #returns 0,0 if no price is strictly negative\n",
    "    #returns 1, 1/L_T otherwise\n",
    "    t1=exponential(1/lamb1/esp)\n",
    "    t2=exponential(1/lamb2)\n",
    "    P = P0\n",
    "    sumIncrements1=0\n",
    "    increment2 = -1+2*np.random.binomial(1,0.5) #pour savoir si le premier incrément du processus 2 vaut 1 ou -1\n",
    "    while t1<T or t2<T:\n",
    "        if (t2<t1):\n",
    "            P+=increment2\n",
    "            increment2 *=-1\n",
    "            t2+=exponential(1/lamb2)\n",
    "        else:\n",
    "            increment1=rand_choice_nb(values,p)\n",
    "            sumIncrements1+=increment1\n",
    "            P+=increment1\n",
    "            t1+=exponential(1/lamb1/esp)\n",
    "    return P,np.exp(lamb1*T*(esp-1)-c*sumIncrements1)"
   ]
  },
  {
   "cell_type": "code",
   "execution_count": 13,
   "metadata": {},
   "outputs": [
    {
     "data": {
      "application/vnd.jupyter.widget-view+json": {
       "model_id": "7cb3d890634c43469c68f12074dbfefb",
       "version_major": 2,
       "version_minor": 0
      },
      "text/plain": [
       "HBox(children=(FloatProgress(value=0.0, max=10000000.0), HTML(value='')))"
      ]
     },
     "metadata": {},
     "output_type": "display_data"
    },
    {
     "name": "stdout",
     "output_type": "stream",
     "text": [
      "\n",
      "Quantile au niveau 0.0001 = 2, avec intervalle de confiance = 2, 2\n",
      "Quantile au niveau 1e-05 = -3, avec intervalle de confiance = -4, -3\n",
      "Quantile au niveau 1e-06 = -8, avec intervalle de confiance = -10, -7\n"
     ]
    }
   ],
   "source": [
    "M=int(1e7)\n",
    "c=-0.3\n",
    "m=3\n",
    "P0=35\n",
    "T=4*60*60\n",
    "lamb1 = 1/660\n",
    "lamb2 = 1/110\n",
    "values_L_T = echant_imp(M,lamb1,lamb2,T,P0,c,m)\n",
    "for quantile in quantiles:\n",
    "    IC_quantile_importance(values_L_T, quantile)"
   ]
  },
  {
   "cell_type": "markdown",
   "metadata": {},
   "source": [
    "## Quantiles à droite- echant d'importance"
   ]
  },
  {
   "cell_type": "code",
   "execution_count": 14,
   "metadata": {},
   "outputs": [],
   "source": [
    "from numpy.random import exponential, choice\n",
    "from numba import jit\n",
    "\n",
    "@jit(nopython=True)\n",
    "def rand_choice_nb(arr, prob):\n",
    "    \"\"\"\n",
    "    :param arr: A 1D numpy array of values to sample from.\n",
    "    :param prob: A 1D numpy array of probabilities for the given samples.\n",
    "    :return: A random sample from the given array with a given probability.\n",
    "    \"\"\"\n",
    "    return arr[np.searchsorted(np.cumsum(prob), np.random.random(), side=\"right\")]\n",
    "\n",
    "@jit(nopython=True)\n",
    "def quantile_sample(lamb1,lamb2,T,P0,esp, values, p):\n",
    "    #returns 0,0 if no price is strictly negative\n",
    "    #returns 1, 1/L_T otherwise\n",
    "    t1=exponential(1/lamb1/esp)\n",
    "    t2=exponential(1/lamb2)\n",
    "    P = P0\n",
    "    sumIncrements1=0\n",
    "    increment2 = -1+2*np.random.binomial(1,0.5) #pour savoir si le premier incrément du processus 2 vaut 1 ou -1\n",
    "    while t1<T or t2<T:\n",
    "        if (t2<t1):\n",
    "            P+=increment2\n",
    "            increment2 *=-1\n",
    "            t2+=exponential(1/lamb2)\n",
    "        else:\n",
    "            increment1=rand_choice_nb(values,p)\n",
    "            sumIncrements1+=increment1\n",
    "            P+=increment1\n",
    "            t1+=exponential(1/lamb1/esp)\n",
    "    return P,np.exp(lamb1*T*(esp-1)-c*sumIncrements1)\n",
    "\n",
    "def echant_imp(M,lamb1,lamb2,T,P0,c,m):\n",
    "    liste_quantiles = np.zeros((M, 2))\n",
    "    if m == 3:\n",
    "        esp = np.cosh(c)/2 +np.cosh(2*c)/3 + np.cosh(3*c)/6\n",
    "        values = np.array([-3,-2,-1,1,2,3])\n",
    "        p = np.array([np.exp(-3*c)/12,np.exp(-2*c)/6,np.exp(-c)/4,np.exp(c)/4,np.exp(2*c)/6,np.exp(3*c)/12])/esp\n",
    "    else:\n",
    "        esp = np.cosh(c)\n",
    "        values = np.array([-1, 1])\n",
    "        p = np.array([np.exp(-c),np.exp(c)])/(2*np.cosh(c))\n",
    "    from tqdm.notebook import tqdm\n",
    "    for l in tqdm(range(M)):\n",
    "        liste_quantiles[l] = quantile_sample(lamb1,lamb2,T,P0,esp,values,p)\n",
    "\n",
    "    liste_quantiles = liste_quantiles[(-liste_quantiles[:, 0]).argsort()]             # sort by P_T\n",
    "    liste_quantiles[:, 1] = liste_quantiles[:, 1].cumsum() / M\n",
    "    return liste_quantiles"
   ]
  },
  {
   "cell_type": "code",
   "execution_count": 15,
   "metadata": {},
   "outputs": [
    {
     "data": {
      "application/vnd.jupyter.widget-view+json": {
       "model_id": "b4c29e74e5994d47a5d7dfe2cbfc542b",
       "version_major": 2,
       "version_minor": 0
      },
      "text/plain": [
       "HBox(children=(FloatProgress(value=0.0, max=10000000.0), HTML(value='')))"
      ]
     },
     "metadata": {},
     "output_type": "display_data"
    },
    {
     "name": "stdout",
     "output_type": "stream",
     "text": [
      "\n",
      "Quantile au niveau 0.0001 = 53, avec intervalle de confiance = 53, 53\n",
      "Quantile au niveau 1e-05 = 56, avec intervalle de confiance = 56, 55\n",
      "Quantile au niveau 1e-06 = 58, avec intervalle de confiance = 59, 58\n",
      "CPU times: user 1min 36s, sys: 579 ms, total: 1min 37s\n",
      "Wall time: 1min 37s\n"
     ]
    }
   ],
   "source": [
    "%%time\n",
    "M=int(1e7)\n",
    "c=1\n",
    "m=1\n",
    "P0=35\n",
    "T=4*60*60\n",
    "lamb1 = 1/660\n",
    "lamb2 = 1/110\n",
    "\n",
    "values_L_T = echant_imp(M,lamb1,lamb2,T,P0,c,m)\n",
    "\n",
    "quantiles = [1e-4, 1e-5, 1e-6]\n",
    "for quantile in quantiles:\n",
    "    IC_quantile_importance(values_L_T, quantile)"
   ]
  },
  {
   "cell_type": "code",
   "execution_count": 16,
   "metadata": {},
   "outputs": [],
   "source": [
    "# Recompile\n",
    "@jit(nopython=True)\n",
    "def rand_choice_nb(arr, prob):\n",
    "    \"\"\"\n",
    "    :param arr: A 1D numpy array of values to sample from.\n",
    "    :param prob: A 1D numpy array of probabilities for the given samples.\n",
    "    :return: A random sample from the given array with a given probability.\n",
    "    \"\"\"\n",
    "    return arr[np.searchsorted(np.cumsum(prob), np.random.random(), side=\"right\")]\n",
    "\n",
    "@jit(nopython=True)\n",
    "def quantile_sample(lamb1,lamb2,T,P0,esp, values, p):\n",
    "    #returns 0,0 if no price is strictly negative\n",
    "    #returns 1, 1/L_T otherwise\n",
    "    t1=exponential(1/lamb1/esp)\n",
    "    t2=exponential(1/lamb2)\n",
    "    P = P0\n",
    "    sumIncrements1=0\n",
    "    increment2 = -1+2*np.random.binomial(1,0.5) #pour savoir si le premier incrément du processus 2 vaut 1 ou -1\n",
    "    while t1<T or t2<T:\n",
    "        if (t2<t1):\n",
    "            P+=increment2\n",
    "            increment2 *=-1\n",
    "            t2+=exponential(1/lamb2)\n",
    "        else:\n",
    "            increment1=rand_choice_nb(values,p)\n",
    "            sumIncrements1+=increment1\n",
    "            P+=increment1\n",
    "            t1+=exponential(1/lamb1/esp)\n",
    "    return P,np.exp(lamb1*T*(esp-1)-c*sumIncrements1)"
   ]
  },
  {
   "cell_type": "code",
   "execution_count": 17,
   "metadata": {},
   "outputs": [
    {
     "data": {
      "application/vnd.jupyter.widget-view+json": {
       "model_id": "f1d76a47119c41c8827fac474ee151f6",
       "version_major": 2,
       "version_minor": 0
      },
      "text/plain": [
       "HBox(children=(FloatProgress(value=0.0, max=10000000.0), HTML(value='')))"
      ]
     },
     "metadata": {},
     "output_type": "display_data"
    },
    {
     "name": "stdout",
     "output_type": "stream",
     "text": [
      "\n",
      "Quantile au niveau 0.0001 = 68, avec intervalle de confiance = 68, 68\n",
      "Quantile au niveau 1e-05 = 73, avec intervalle de confiance = 74, 73\n",
      "Quantile au niveau 1e-06 = 78, avec intervalle de confiance = 80, 77\n"
     ]
    }
   ],
   "source": [
    "M=int(1e7)\n",
    "c=0.3\n",
    "m=3\n",
    "P0=35\n",
    "T=4*60*60\n",
    "lamb1 = 1/660\n",
    "lamb2 = 1/110\n",
    "values_L_T = echant_imp(M,lamb1,lamb2,T,P0,c,m)\n",
    "for quantile in quantiles:\n",
    "    IC_quantile_importance(values_L_T, quantile)"
   ]
  }
 ],
 "metadata": {
  "colab": {
   "collapsed_sections": [
    "WX6z2Cw9oygh",
    "1EPXucHSxnK0",
    "7MNbYGKyxzsc",
    "1bthr6Ecx-FQ",
    "W44z1y2wFgPO",
    "54ss_U8OztnN",
    "mOgm7vfNzzaB",
    "f6ZpnHtBhElE",
    "ntNKzkWPzUT1",
    "sJt1_9eHz6-J",
    "9h3BmWHs0C4R",
    "fKihS64UzPW5",
    "ZDhCCbs30IxJ",
    "k1Q0VUze0Muj",
    "GoJBPfJ4T0FL",
    "GiQmq9gl0gSv"
   ],
   "machine_shape": "hm",
   "name": "Projet_Modal.ipynb",
   "provenance": []
  },
  "kernelspec": {
   "display_name": "Python 3",
   "language": "python",
   "name": "python3"
  },
  "language_info": {
   "codemirror_mode": {
    "name": "ipython",
    "version": 3
   },
   "file_extension": ".py",
   "mimetype": "text/x-python",
   "name": "python",
   "nbconvert_exporter": "python",
   "pygments_lexer": "ipython3",
   "version": "3.7.6"
  }
 },
 "nbformat": 4,
 "nbformat_minor": 1
}
